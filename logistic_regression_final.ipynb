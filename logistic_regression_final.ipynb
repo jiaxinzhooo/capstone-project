{
 "cells": [
  {
   "cell_type": "markdown",
   "metadata": {},
   "source": [
    "Import libraries and read data"
   ]
  },
  {
   "cell_type": "code",
   "execution_count": 1,
   "metadata": {},
   "outputs": [
    {
     "name": "stderr",
     "output_type": "stream",
     "text": [
      "C:\\Users\\jiaxi\\AppData\\Local\\Packages\\PythonSoftwareFoundation.Python.3.10_qbz5n2kfra8p0\\LocalCache\\local-packages\\Python310\\site-packages\\tqdm\\auto.py:22: TqdmWarning: IProgress not found. Please update jupyter and ipywidgets. See https://ipywidgets.readthedocs.io/en/stable/user_install.html\n",
      "  from .autonotebook import tqdm as notebook_tqdm\n"
     ]
    }
   ],
   "source": [
    "import numpy as np\n",
    "import pandas as pd\n",
    "from sklearn.model_selection import train_test_split\n",
    "from sklearn.linear_model import LogisticRegression\n",
    "from sklearn.model_selection import GridSearchCV\n",
    "from sklearn.model_selection import cross_val_score\n",
    "from sklearn.model_selection import cross_val_predict\n",
    "from sklearn.model_selection import cross_validate\n",
    "from sklearn.metrics import accuracy_score\n",
    "from sklearn.metrics import mean_squared_error\n",
    "from sklearn.metrics import confusion_matrix\n",
    "from sklearn.ensemble import VotingClassifier\n",
    "from sklearn.pipeline import make_pipeline\n",
    "from sklearn import metrics\n",
    "from sklearn import tree\n",
    "import matplotlib.pyplot as plt\n",
    "import seaborn as sns\n",
    "import torch\n",
    "import transformers as ppb\n",
    "import warnings\n",
    "warnings.filterwarnings('ignore')"
   ]
  },
  {
   "cell_type": "code",
   "execution_count": 3,
   "metadata": {},
   "outputs": [],
   "source": [
    "df = pd.read_csv('./data/preprocessed_data.csv')"
   ]
  },
  {
   "cell_type": "code",
   "execution_count": 4,
   "metadata": {},
   "outputs": [
    {
     "name": "stdout",
     "output_type": "stream",
     "text": [
      "<class 'pandas.core.frame.DataFrame'>\n",
      "RangeIndex: 440384 entries, 0 to 440383\n",
      "Data columns (total 16 columns):\n",
      " #   Column             Non-Null Count   Dtype  \n",
      "---  ------             --------------   -----  \n",
      " 0   Unnamed: 0         440384 non-null  int64  \n",
      " 1   temperature        440384 non-null  float64\n",
      " 2   heartrate          440384 non-null  float64\n",
      " 3   resprate           440384 non-null  float64\n",
      " 4   o2sat              440384 non-null  float64\n",
      " 5   sbp                440384 non-null  float64\n",
      " 6   dbp                440384 non-null  float64\n",
      " 7   pain               440384 non-null  object \n",
      " 8   acuity             440384 non-null  float64\n",
      " 9   chiefcomplaint     440367 non-null  object \n",
      " 10  gender             440384 non-null  object \n",
      " 11  race               440384 non-null  object \n",
      " 12  arrival_transport  440384 non-null  object \n",
      " 13  disposition        440384 non-null  object \n",
      " 14  arrival_hour       440384 non-null  int64  \n",
      " 15  isImputed          440384 non-null  bool   \n",
      "dtypes: bool(1), float64(7), int64(2), object(6)\n",
      "memory usage: 50.8+ MB\n"
     ]
    }
   ],
   "source": [
    "df.info()"
   ]
  },
  {
   "cell_type": "markdown",
   "metadata": {},
   "source": [
    "drop the NaN values"
   ]
  },
  {
   "cell_type": "code",
   "execution_count": 5,
   "metadata": {},
   "outputs": [
    {
     "data": {
      "text/plain": [
       "Unnamed: 0           0\n",
       "temperature          0\n",
       "heartrate            0\n",
       "resprate             0\n",
       "o2sat                0\n",
       "sbp                  0\n",
       "dbp                  0\n",
       "pain                 0\n",
       "acuity               0\n",
       "chiefcomplaint       0\n",
       "gender               0\n",
       "race                 0\n",
       "arrival_transport    0\n",
       "disposition          0\n",
       "arrival_hour         0\n",
       "isImputed            0\n",
       "dtype: int64"
      ]
     },
     "execution_count": 5,
     "metadata": {},
     "output_type": "execute_result"
    }
   ],
   "source": [
    "df.dropna(inplace=True)\n",
    "df.isna().sum()"
   ]
  },
  {
   "cell_type": "code",
   "execution_count": 6,
   "metadata": {},
   "outputs": [
    {
     "data": {
      "text/plain": [
       "3.0    237004\n",
       "2.0    146866\n",
       "4.0     30078\n",
       "1.0     25253\n",
       "5.0      1166\n",
       "Name: acuity, dtype: int64"
      ]
     },
     "execution_count": 6,
     "metadata": {},
     "output_type": "execute_result"
    }
   ],
   "source": [
    "# removing th Unamed column collumn and count the value of acuity\n",
    "df = df.drop([\"Unnamed: 0\"],axis = 1)\n",
    "df['acuity'].value_counts()"
   ]
  },
  {
   "cell_type": "code",
   "execution_count": 7,
   "metadata": {},
   "outputs": [
    {
     "data": {
      "text/html": [
       "<div>\n",
       "<style scoped>\n",
       "    .dataframe tbody tr th:only-of-type {\n",
       "        vertical-align: middle;\n",
       "    }\n",
       "\n",
       "    .dataframe tbody tr th {\n",
       "        vertical-align: top;\n",
       "    }\n",
       "\n",
       "    .dataframe thead th {\n",
       "        text-align: right;\n",
       "    }\n",
       "</style>\n",
       "<table border=\"1\" class=\"dataframe\">\n",
       "  <thead>\n",
       "    <tr style=\"text-align: right;\">\n",
       "      <th></th>\n",
       "      <th>temperature</th>\n",
       "      <th>heartrate</th>\n",
       "      <th>resprate</th>\n",
       "      <th>o2sat</th>\n",
       "      <th>sbp</th>\n",
       "      <th>dbp</th>\n",
       "      <th>pain</th>\n",
       "      <th>acuity</th>\n",
       "      <th>chiefcomplaint</th>\n",
       "      <th>gender</th>\n",
       "      <th>race</th>\n",
       "      <th>arrival_transport</th>\n",
       "      <th>disposition</th>\n",
       "      <th>arrival_hour</th>\n",
       "      <th>isImputed</th>\n",
       "    </tr>\n",
       "  </thead>\n",
       "  <tbody>\n",
       "    <tr>\n",
       "      <th>0</th>\n",
       "      <td>0.099097</td>\n",
       "      <td>0.070090</td>\n",
       "      <td>0.000988</td>\n",
       "      <td>0.010405</td>\n",
       "      <td>0.000463</td>\n",
       "      <td>0.000065</td>\n",
       "      <td>7</td>\n",
       "      <td>2.0</td>\n",
       "      <td>Hypotension</td>\n",
       "      <td>F</td>\n",
       "      <td>WHITE</td>\n",
       "      <td>AMBULANCE</td>\n",
       "      <td>HOME</td>\n",
       "      <td>16</td>\n",
       "      <td>False</td>\n",
       "    </tr>\n",
       "    <tr>\n",
       "      <th>1</th>\n",
       "      <td>0.099706</td>\n",
       "      <td>0.056235</td>\n",
       "      <td>0.001129</td>\n",
       "      <td>0.010405</td>\n",
       "      <td>0.000695</td>\n",
       "      <td>0.000095</td>\n",
       "      <td>0</td>\n",
       "      <td>3.0</td>\n",
       "      <td>Abd pain, Abdominal distention</td>\n",
       "      <td>F</td>\n",
       "      <td>WHITE</td>\n",
       "      <td>AMBULANCE</td>\n",
       "      <td>ADMITTED</td>\n",
       "      <td>19</td>\n",
       "      <td>False</td>\n",
       "    </tr>\n",
       "    <tr>\n",
       "      <th>2</th>\n",
       "      <td>0.100720</td>\n",
       "      <td>0.084760</td>\n",
       "      <td>0.001270</td>\n",
       "      <td>0.010298</td>\n",
       "      <td>0.000695</td>\n",
       "      <td>0.000086</td>\n",
       "      <td>10</td>\n",
       "      <td>3.0</td>\n",
       "      <td>n/v/d, Abd pain</td>\n",
       "      <td>F</td>\n",
       "      <td>WHITE</td>\n",
       "      <td>AMBULANCE</td>\n",
       "      <td>ADMITTED</td>\n",
       "      <td>20</td>\n",
       "      <td>False</td>\n",
       "    </tr>\n",
       "    <tr>\n",
       "      <th>3</th>\n",
       "      <td>0.100213</td>\n",
       "      <td>0.070905</td>\n",
       "      <td>0.001270</td>\n",
       "      <td>0.010405</td>\n",
       "      <td>0.000761</td>\n",
       "      <td>0.000133</td>\n",
       "      <td>10</td>\n",
       "      <td>3.0</td>\n",
       "      <td>Abdominal distention</td>\n",
       "      <td>F</td>\n",
       "      <td>WHITE</td>\n",
       "      <td>AMBULANCE</td>\n",
       "      <td>ADMITTED</td>\n",
       "      <td>15</td>\n",
       "      <td>False</td>\n",
       "    </tr>\n",
       "    <tr>\n",
       "      <th>4</th>\n",
       "      <td>0.100010</td>\n",
       "      <td>0.061940</td>\n",
       "      <td>0.001129</td>\n",
       "      <td>0.010513</td>\n",
       "      <td>0.000629</td>\n",
       "      <td>0.000076</td>\n",
       "      <td>13</td>\n",
       "      <td>2.0</td>\n",
       "      <td>Abdominal distention, Abd pain, LETHAGIC</td>\n",
       "      <td>F</td>\n",
       "      <td>WHITE</td>\n",
       "      <td>AMBULANCE</td>\n",
       "      <td>ADMITTED</td>\n",
       "      <td>5</td>\n",
       "      <td>False</td>\n",
       "    </tr>\n",
       "  </tbody>\n",
       "</table>\n",
       "</div>"
      ],
      "text/plain": [
       "   temperature  heartrate  resprate     o2sat       sbp       dbp pain  \\\n",
       "0     0.099097   0.070090  0.000988  0.010405  0.000463  0.000065    7   \n",
       "1     0.099706   0.056235  0.001129  0.010405  0.000695  0.000095    0   \n",
       "2     0.100720   0.084760  0.001270  0.010298  0.000695  0.000086   10   \n",
       "3     0.100213   0.070905  0.001270  0.010405  0.000761  0.000133   10   \n",
       "4     0.100010   0.061940  0.001129  0.010513  0.000629  0.000076   13   \n",
       "\n",
       "   acuity                            chiefcomplaint gender   race  \\\n",
       "0     2.0                               Hypotension      F  WHITE   \n",
       "1     3.0            Abd pain, Abdominal distention      F  WHITE   \n",
       "2     3.0                           n/v/d, Abd pain      F  WHITE   \n",
       "3     3.0                      Abdominal distention      F  WHITE   \n",
       "4     2.0  Abdominal distention, Abd pain, LETHAGIC      F  WHITE   \n",
       "\n",
       "  arrival_transport disposition  arrival_hour  isImputed  \n",
       "0         AMBULANCE        HOME            16      False  \n",
       "1         AMBULANCE    ADMITTED            19      False  \n",
       "2         AMBULANCE    ADMITTED            20      False  \n",
       "3         AMBULANCE    ADMITTED            15      False  \n",
       "4         AMBULANCE    ADMITTED             5      False  "
      ]
     },
     "execution_count": 7,
     "metadata": {},
     "output_type": "execute_result"
    }
   ],
   "source": [
    "df.head()"
   ]
  },
  {
   "cell_type": "code",
   "execution_count": 8,
   "metadata": {},
   "outputs": [],
   "source": [
    "# shuffle the data and create a small batch with 10% of the full dataset\n",
    "np.random.seed(112)\n",
    "batch = df.sample(frac=0.1, random_state=42)"
   ]
  },
  {
   "cell_type": "markdown",
   "metadata": {},
   "source": [
    "### Applying ClinicalBERT on text data"
   ]
  },
  {
   "cell_type": "code",
   "execution_count": 9,
   "metadata": {},
   "outputs": [
    {
     "name": "stderr",
     "output_type": "stream",
     "text": [
      "Some weights of the model checkpoint at emilyalsentzer/Bio_ClinicalBERT were not used when initializing BertModel: ['cls.predictions.decoder.weight', 'cls.predictions.transform.dense.weight', 'cls.seq_relationship.weight', 'cls.seq_relationship.bias', 'cls.predictions.transform.dense.bias', 'cls.predictions.transform.LayerNorm.bias', 'cls.predictions.transform.LayerNorm.weight', 'cls.predictions.bias']\n",
      "- This IS expected if you are initializing BertModel from the checkpoint of a model trained on another task or with another architecture (e.g. initializing a BertForSequenceClassification model from a BertForPreTraining model).\n",
      "- This IS NOT expected if you are initializing BertModel from the checkpoint of a model that you expect to be exactly identical (initializing a BertForSequenceClassification model from a BertForSequenceClassification model).\n"
     ]
    }
   ],
   "source": [
    "# Load the Bio_ClinicalBERT model via the transformers library\n",
    "from transformers import AutoTokenizer, AutoModel\n",
    "tokenizer = AutoTokenizer.from_pretrained(\"emilyalsentzer/Bio_ClinicalBERT\")\n",
    "model1 = AutoModel.from_pretrained(\"emilyalsentzer/Bio_ClinicalBERT\")"
   ]
  },
  {
   "cell_type": "code",
   "execution_count": 10,
   "metadata": {},
   "outputs": [],
   "source": [
    "# tokenize the sentences -- break them up into word and subwords in the format BERT is comfortable with.\n",
    "tokenized = batch['chiefcomplaint'].apply((lambda x: tokenizer.encode(x, add_special_tokens=True)))"
   ]
  },
  {
   "cell_type": "markdown",
   "metadata": {},
   "source": [
    "#### Padding\n",
    "After tokenization, tokenized is a list of sentences -- each sentences is represented as a list of tokens. We want BERT to process our examples all at once (as one batch). For that reason, we pad all lists to the same size, so we can represent the input as one 2-d array, rather than a list of lists (of different lengths)."
   ]
  },
  {
   "cell_type": "code",
   "execution_count": 11,
   "metadata": {},
   "outputs": [],
   "source": [
    "max_len = 0\n",
    "for i in tokenized.values:\n",
    "    if len(i) > max_len:\n",
    "        max_len = len(i)\n",
    "\n",
    "padded = np.array([i + [0]*(max_len-len(i)) for i in tokenized.values])"
   ]
  },
  {
   "cell_type": "code",
   "execution_count": 12,
   "metadata": {},
   "outputs": [
    {
     "data": {
      "text/plain": [
       "(44037, 29)"
      ]
     },
     "execution_count": 12,
     "metadata": {},
     "output_type": "execute_result"
    }
   ],
   "source": [
    "np.array(padded).shape"
   ]
  },
  {
   "cell_type": "markdown",
   "metadata": {},
   "source": [
    "#### Masking\n",
    "\n",
    "Create another variable to tell it to ignore (mask) the padding we've added when it's processing its input."
   ]
  },
  {
   "cell_type": "code",
   "execution_count": 13,
   "metadata": {},
   "outputs": [
    {
     "data": {
      "text/plain": [
       "(44037, 29)"
      ]
     },
     "execution_count": 13,
     "metadata": {},
     "output_type": "execute_result"
    }
   ],
   "source": [
    "attention_mask = np.where(padded != 0, 1, 0)\n",
    "attention_mask.shape"
   ]
  },
  {
   "cell_type": "code",
   "execution_count": 105,
   "metadata": {},
   "outputs": [],
   "source": [
    "# The model1() function runs our sentences through BERT. \n",
    "# The results of the processing will be returned into last_hidden_states.\n",
    "\n",
    "input_ids = torch.tensor(padded)  \n",
    "attention_mask = torch.tensor(attention_mask)\n",
    "\n",
    "with torch.no_grad():\n",
    "    last_hidden_states = model1(input_ids, attention_mask=attention_mask)\n"
   ]
  },
  {
   "cell_type": "code",
   "execution_count": 74,
   "metadata": {},
   "outputs": [],
   "source": [
    "# save those in the features variable\n",
    "features = last_hidden_states[0][:,0,:].numpy()"
   ]
  },
  {
   "cell_type": "code",
   "execution_count": 75,
   "metadata": {},
   "outputs": [],
   "source": [
    "# create a dataframe for text featuers\n",
    "chief =  pd.DataFrame(features)"
   ]
  },
  {
   "cell_type": "code",
   "execution_count": 76,
   "metadata": {},
   "outputs": [
    {
     "data": {
      "text/html": [
       "<div>\n",
       "<style scoped>\n",
       "    .dataframe tbody tr th:only-of-type {\n",
       "        vertical-align: middle;\n",
       "    }\n",
       "\n",
       "    .dataframe tbody tr th {\n",
       "        vertical-align: top;\n",
       "    }\n",
       "\n",
       "    .dataframe thead th {\n",
       "        text-align: right;\n",
       "    }\n",
       "</style>\n",
       "<table border=\"1\" class=\"dataframe\">\n",
       "  <thead>\n",
       "    <tr style=\"text-align: right;\">\n",
       "      <th></th>\n",
       "      <th>0</th>\n",
       "      <th>1</th>\n",
       "      <th>2</th>\n",
       "      <th>3</th>\n",
       "      <th>4</th>\n",
       "      <th>5</th>\n",
       "      <th>6</th>\n",
       "      <th>7</th>\n",
       "      <th>8</th>\n",
       "      <th>9</th>\n",
       "      <th>...</th>\n",
       "      <th>758</th>\n",
       "      <th>759</th>\n",
       "      <th>760</th>\n",
       "      <th>761</th>\n",
       "      <th>762</th>\n",
       "      <th>763</th>\n",
       "      <th>764</th>\n",
       "      <th>765</th>\n",
       "      <th>766</th>\n",
       "      <th>767</th>\n",
       "    </tr>\n",
       "  </thead>\n",
       "  <tbody>\n",
       "    <tr>\n",
       "      <th>0</th>\n",
       "      <td>0.311950</td>\n",
       "      <td>0.444077</td>\n",
       "      <td>-0.288557</td>\n",
       "      <td>-0.093169</td>\n",
       "      <td>-0.104896</td>\n",
       "      <td>-0.010594</td>\n",
       "      <td>0.520037</td>\n",
       "      <td>-0.435160</td>\n",
       "      <td>0.336915</td>\n",
       "      <td>0.382754</td>\n",
       "      <td>...</td>\n",
       "      <td>-0.330804</td>\n",
       "      <td>0.212703</td>\n",
       "      <td>-0.356160</td>\n",
       "      <td>0.154564</td>\n",
       "      <td>-0.123790</td>\n",
       "      <td>0.211672</td>\n",
       "      <td>0.206282</td>\n",
       "      <td>0.201522</td>\n",
       "      <td>0.277029</td>\n",
       "      <td>0.156793</td>\n",
       "    </tr>\n",
       "    <tr>\n",
       "      <th>1</th>\n",
       "      <td>0.687823</td>\n",
       "      <td>0.107478</td>\n",
       "      <td>-0.366926</td>\n",
       "      <td>0.276666</td>\n",
       "      <td>-0.114789</td>\n",
       "      <td>-0.040132</td>\n",
       "      <td>0.281370</td>\n",
       "      <td>-0.757352</td>\n",
       "      <td>0.556592</td>\n",
       "      <td>0.537890</td>\n",
       "      <td>...</td>\n",
       "      <td>-0.444778</td>\n",
       "      <td>0.385383</td>\n",
       "      <td>-0.204431</td>\n",
       "      <td>-0.393671</td>\n",
       "      <td>-0.158956</td>\n",
       "      <td>0.704408</td>\n",
       "      <td>0.395178</td>\n",
       "      <td>-0.272981</td>\n",
       "      <td>0.577729</td>\n",
       "      <td>-0.021654</td>\n",
       "    </tr>\n",
       "    <tr>\n",
       "      <th>2</th>\n",
       "      <td>0.544502</td>\n",
       "      <td>0.324034</td>\n",
       "      <td>-0.413119</td>\n",
       "      <td>-0.136429</td>\n",
       "      <td>0.048228</td>\n",
       "      <td>-0.148902</td>\n",
       "      <td>0.209255</td>\n",
       "      <td>-0.527034</td>\n",
       "      <td>0.568213</td>\n",
       "      <td>0.366345</td>\n",
       "      <td>...</td>\n",
       "      <td>-0.380303</td>\n",
       "      <td>0.159459</td>\n",
       "      <td>-0.426826</td>\n",
       "      <td>-0.022930</td>\n",
       "      <td>-0.140409</td>\n",
       "      <td>0.785520</td>\n",
       "      <td>0.114265</td>\n",
       "      <td>-0.138958</td>\n",
       "      <td>0.327461</td>\n",
       "      <td>-0.097879</td>\n",
       "    </tr>\n",
       "    <tr>\n",
       "      <th>3</th>\n",
       "      <td>0.515957</td>\n",
       "      <td>0.268456</td>\n",
       "      <td>-0.320933</td>\n",
       "      <td>-0.034751</td>\n",
       "      <td>-0.086898</td>\n",
       "      <td>-0.017790</td>\n",
       "      <td>0.174071</td>\n",
       "      <td>-0.270109</td>\n",
       "      <td>0.293977</td>\n",
       "      <td>0.011488</td>\n",
       "      <td>...</td>\n",
       "      <td>-0.259356</td>\n",
       "      <td>0.292617</td>\n",
       "      <td>-0.038644</td>\n",
       "      <td>-0.111788</td>\n",
       "      <td>-0.136586</td>\n",
       "      <td>0.529627</td>\n",
       "      <td>0.448041</td>\n",
       "      <td>-0.060289</td>\n",
       "      <td>0.314306</td>\n",
       "      <td>-0.122775</td>\n",
       "    </tr>\n",
       "    <tr>\n",
       "      <th>4</th>\n",
       "      <td>0.277032</td>\n",
       "      <td>0.495860</td>\n",
       "      <td>-0.180164</td>\n",
       "      <td>0.048023</td>\n",
       "      <td>-0.347137</td>\n",
       "      <td>-0.202029</td>\n",
       "      <td>0.023059</td>\n",
       "      <td>-0.148790</td>\n",
       "      <td>0.601625</td>\n",
       "      <td>-0.190487</td>\n",
       "      <td>...</td>\n",
       "      <td>-0.167269</td>\n",
       "      <td>0.305497</td>\n",
       "      <td>-0.104390</td>\n",
       "      <td>0.087480</td>\n",
       "      <td>-0.424541</td>\n",
       "      <td>0.386509</td>\n",
       "      <td>0.120862</td>\n",
       "      <td>-0.064220</td>\n",
       "      <td>0.686664</td>\n",
       "      <td>0.048456</td>\n",
       "    </tr>\n",
       "    <tr>\n",
       "      <th>...</th>\n",
       "      <td>...</td>\n",
       "      <td>...</td>\n",
       "      <td>...</td>\n",
       "      <td>...</td>\n",
       "      <td>...</td>\n",
       "      <td>...</td>\n",
       "      <td>...</td>\n",
       "      <td>...</td>\n",
       "      <td>...</td>\n",
       "      <td>...</td>\n",
       "      <td>...</td>\n",
       "      <td>...</td>\n",
       "      <td>...</td>\n",
       "      <td>...</td>\n",
       "      <td>...</td>\n",
       "      <td>...</td>\n",
       "      <td>...</td>\n",
       "      <td>...</td>\n",
       "      <td>...</td>\n",
       "      <td>...</td>\n",
       "      <td>...</td>\n",
       "    </tr>\n",
       "    <tr>\n",
       "      <th>44032</th>\n",
       "      <td>0.687823</td>\n",
       "      <td>0.107478</td>\n",
       "      <td>-0.366926</td>\n",
       "      <td>0.276666</td>\n",
       "      <td>-0.114789</td>\n",
       "      <td>-0.040132</td>\n",
       "      <td>0.281370</td>\n",
       "      <td>-0.757352</td>\n",
       "      <td>0.556592</td>\n",
       "      <td>0.537890</td>\n",
       "      <td>...</td>\n",
       "      <td>-0.444778</td>\n",
       "      <td>0.385383</td>\n",
       "      <td>-0.204431</td>\n",
       "      <td>-0.393671</td>\n",
       "      <td>-0.158956</td>\n",
       "      <td>0.704408</td>\n",
       "      <td>0.395178</td>\n",
       "      <td>-0.272981</td>\n",
       "      <td>0.577729</td>\n",
       "      <td>-0.021654</td>\n",
       "    </tr>\n",
       "    <tr>\n",
       "      <th>44033</th>\n",
       "      <td>0.180610</td>\n",
       "      <td>0.439647</td>\n",
       "      <td>-0.223505</td>\n",
       "      <td>-0.160196</td>\n",
       "      <td>-0.023676</td>\n",
       "      <td>-0.252597</td>\n",
       "      <td>0.222132</td>\n",
       "      <td>-0.092172</td>\n",
       "      <td>0.686407</td>\n",
       "      <td>0.023257</td>\n",
       "      <td>...</td>\n",
       "      <td>0.043167</td>\n",
       "      <td>0.030886</td>\n",
       "      <td>-0.167681</td>\n",
       "      <td>0.068751</td>\n",
       "      <td>-0.294101</td>\n",
       "      <td>0.371367</td>\n",
       "      <td>0.313837</td>\n",
       "      <td>0.168037</td>\n",
       "      <td>0.409323</td>\n",
       "      <td>0.079720</td>\n",
       "    </tr>\n",
       "    <tr>\n",
       "      <th>44034</th>\n",
       "      <td>-0.007100</td>\n",
       "      <td>0.422666</td>\n",
       "      <td>-0.359140</td>\n",
       "      <td>-0.040917</td>\n",
       "      <td>-0.195994</td>\n",
       "      <td>0.050210</td>\n",
       "      <td>0.530254</td>\n",
       "      <td>-0.123454</td>\n",
       "      <td>0.361253</td>\n",
       "      <td>-0.158439</td>\n",
       "      <td>...</td>\n",
       "      <td>-0.110313</td>\n",
       "      <td>0.201618</td>\n",
       "      <td>-0.283322</td>\n",
       "      <td>-0.067098</td>\n",
       "      <td>-0.244402</td>\n",
       "      <td>0.370745</td>\n",
       "      <td>0.125149</td>\n",
       "      <td>0.079503</td>\n",
       "      <td>0.300330</td>\n",
       "      <td>0.213981</td>\n",
       "    </tr>\n",
       "    <tr>\n",
       "      <th>44035</th>\n",
       "      <td>0.507366</td>\n",
       "      <td>0.087813</td>\n",
       "      <td>-0.143296</td>\n",
       "      <td>0.026168</td>\n",
       "      <td>0.202859</td>\n",
       "      <td>-0.268946</td>\n",
       "      <td>0.249754</td>\n",
       "      <td>-0.403564</td>\n",
       "      <td>0.887945</td>\n",
       "      <td>0.506444</td>\n",
       "      <td>...</td>\n",
       "      <td>0.220911</td>\n",
       "      <td>0.050108</td>\n",
       "      <td>-0.106819</td>\n",
       "      <td>0.180158</td>\n",
       "      <td>0.149701</td>\n",
       "      <td>0.421144</td>\n",
       "      <td>0.079937</td>\n",
       "      <td>0.086242</td>\n",
       "      <td>0.255107</td>\n",
       "      <td>-0.500787</td>\n",
       "    </tr>\n",
       "    <tr>\n",
       "      <th>44036</th>\n",
       "      <td>0.554962</td>\n",
       "      <td>0.258206</td>\n",
       "      <td>-0.572957</td>\n",
       "      <td>-0.341423</td>\n",
       "      <td>0.107123</td>\n",
       "      <td>-0.010446</td>\n",
       "      <td>0.399593</td>\n",
       "      <td>0.051852</td>\n",
       "      <td>0.278889</td>\n",
       "      <td>-0.434227</td>\n",
       "      <td>...</td>\n",
       "      <td>0.068242</td>\n",
       "      <td>0.185342</td>\n",
       "      <td>-0.049644</td>\n",
       "      <td>0.034152</td>\n",
       "      <td>-0.352683</td>\n",
       "      <td>0.256994</td>\n",
       "      <td>0.215655</td>\n",
       "      <td>0.116677</td>\n",
       "      <td>-0.062706</td>\n",
       "      <td>-0.084453</td>\n",
       "    </tr>\n",
       "  </tbody>\n",
       "</table>\n",
       "<p>44037 rows × 768 columns</p>\n",
       "</div>"
      ],
      "text/plain": [
       "            0         1         2         3         4         5         6    \\\n",
       "0      0.311950  0.444077 -0.288557 -0.093169 -0.104896 -0.010594  0.520037   \n",
       "1      0.687823  0.107478 -0.366926  0.276666 -0.114789 -0.040132  0.281370   \n",
       "2      0.544502  0.324034 -0.413119 -0.136429  0.048228 -0.148902  0.209255   \n",
       "3      0.515957  0.268456 -0.320933 -0.034751 -0.086898 -0.017790  0.174071   \n",
       "4      0.277032  0.495860 -0.180164  0.048023 -0.347137 -0.202029  0.023059   \n",
       "...         ...       ...       ...       ...       ...       ...       ...   \n",
       "44032  0.687823  0.107478 -0.366926  0.276666 -0.114789 -0.040132  0.281370   \n",
       "44033  0.180610  0.439647 -0.223505 -0.160196 -0.023676 -0.252597  0.222132   \n",
       "44034 -0.007100  0.422666 -0.359140 -0.040917 -0.195994  0.050210  0.530254   \n",
       "44035  0.507366  0.087813 -0.143296  0.026168  0.202859 -0.268946  0.249754   \n",
       "44036  0.554962  0.258206 -0.572957 -0.341423  0.107123 -0.010446  0.399593   \n",
       "\n",
       "            7         8         9    ...       758       759       760  \\\n",
       "0     -0.435160  0.336915  0.382754  ... -0.330804  0.212703 -0.356160   \n",
       "1     -0.757352  0.556592  0.537890  ... -0.444778  0.385383 -0.204431   \n",
       "2     -0.527034  0.568213  0.366345  ... -0.380303  0.159459 -0.426826   \n",
       "3     -0.270109  0.293977  0.011488  ... -0.259356  0.292617 -0.038644   \n",
       "4     -0.148790  0.601625 -0.190487  ... -0.167269  0.305497 -0.104390   \n",
       "...         ...       ...       ...  ...       ...       ...       ...   \n",
       "44032 -0.757352  0.556592  0.537890  ... -0.444778  0.385383 -0.204431   \n",
       "44033 -0.092172  0.686407  0.023257  ...  0.043167  0.030886 -0.167681   \n",
       "44034 -0.123454  0.361253 -0.158439  ... -0.110313  0.201618 -0.283322   \n",
       "44035 -0.403564  0.887945  0.506444  ...  0.220911  0.050108 -0.106819   \n",
       "44036  0.051852  0.278889 -0.434227  ...  0.068242  0.185342 -0.049644   \n",
       "\n",
       "            761       762       763       764       765       766       767  \n",
       "0      0.154564 -0.123790  0.211672  0.206282  0.201522  0.277029  0.156793  \n",
       "1     -0.393671 -0.158956  0.704408  0.395178 -0.272981  0.577729 -0.021654  \n",
       "2     -0.022930 -0.140409  0.785520  0.114265 -0.138958  0.327461 -0.097879  \n",
       "3     -0.111788 -0.136586  0.529627  0.448041 -0.060289  0.314306 -0.122775  \n",
       "4      0.087480 -0.424541  0.386509  0.120862 -0.064220  0.686664  0.048456  \n",
       "...         ...       ...       ...       ...       ...       ...       ...  \n",
       "44032 -0.393671 -0.158956  0.704408  0.395178 -0.272981  0.577729 -0.021654  \n",
       "44033  0.068751 -0.294101  0.371367  0.313837  0.168037  0.409323  0.079720  \n",
       "44034 -0.067098 -0.244402  0.370745  0.125149  0.079503  0.300330  0.213981  \n",
       "44035  0.180158  0.149701  0.421144  0.079937  0.086242  0.255107 -0.500787  \n",
       "44036  0.034152 -0.352683  0.256994  0.215655  0.116677 -0.062706 -0.084453  \n",
       "\n",
       "[44037 rows x 768 columns]"
      ]
     },
     "execution_count": 76,
     "metadata": {},
     "output_type": "execute_result"
    }
   ],
   "source": [
    "chief"
   ]
  },
  {
   "cell_type": "markdown",
   "metadata": {},
   "source": [
    "### Creating target and data, and a newdf with text fearures"
   ]
  },
  {
   "cell_type": "code",
   "execution_count": 77,
   "metadata": {},
   "outputs": [],
   "source": [
    "target = batch['acuity']\n",
    "data = batch.drop(columns=['acuity','chiefcomplaint']) \n",
    "data = data.reset_index()\n",
    "indexes = data[\"index\"]\n",
    "data.drop(columns=['index'])\n",
    "\n",
    "new_df = pd.concat([chief,data], axis=1, join='outer')"
   ]
  },
  {
   "cell_type": "code",
   "execution_count": 78,
   "metadata": {},
   "outputs": [
    {
     "data": {
      "text/plain": [
       "(44037,)"
      ]
     },
     "execution_count": 78,
     "metadata": {},
     "output_type": "execute_result"
    }
   ],
   "source": [
    "target.shape"
   ]
  },
  {
   "cell_type": "code",
   "execution_count": 79,
   "metadata": {},
   "outputs": [
    {
     "data": {
      "text/plain": [
       "(44037, 781)"
      ]
     },
     "execution_count": 79,
     "metadata": {},
     "output_type": "execute_result"
    }
   ],
   "source": [
    "new_df.shape"
   ]
  },
  {
   "cell_type": "code",
   "execution_count": 80,
   "metadata": {},
   "outputs": [
    {
     "data": {
      "text/html": [
       "<div>\n",
       "<style scoped>\n",
       "    .dataframe tbody tr th:only-of-type {\n",
       "        vertical-align: middle;\n",
       "    }\n",
       "\n",
       "    .dataframe tbody tr th {\n",
       "        vertical-align: top;\n",
       "    }\n",
       "\n",
       "    .dataframe thead th {\n",
       "        text-align: right;\n",
       "    }\n",
       "</style>\n",
       "<table border=\"1\" class=\"dataframe\">\n",
       "  <thead>\n",
       "    <tr style=\"text-align: right;\">\n",
       "      <th></th>\n",
       "      <th>0</th>\n",
       "      <th>1</th>\n",
       "      <th>2</th>\n",
       "      <th>3</th>\n",
       "      <th>4</th>\n",
       "      <th>5</th>\n",
       "      <th>6</th>\n",
       "      <th>7</th>\n",
       "      <th>8</th>\n",
       "      <th>9</th>\n",
       "      <th>...</th>\n",
       "      <th>resprate</th>\n",
       "      <th>o2sat</th>\n",
       "      <th>sbp</th>\n",
       "      <th>dbp</th>\n",
       "      <th>pain</th>\n",
       "      <th>gender</th>\n",
       "      <th>race</th>\n",
       "      <th>arrival_transport</th>\n",
       "      <th>arrival_hour</th>\n",
       "      <th>isImputed</th>\n",
       "    </tr>\n",
       "  </thead>\n",
       "  <tbody>\n",
       "    <tr>\n",
       "      <th>0</th>\n",
       "      <td>0.311950</td>\n",
       "      <td>0.444077</td>\n",
       "      <td>-0.288557</td>\n",
       "      <td>-0.093169</td>\n",
       "      <td>-0.104896</td>\n",
       "      <td>-0.010594</td>\n",
       "      <td>0.520037</td>\n",
       "      <td>-0.435160</td>\n",
       "      <td>0.336915</td>\n",
       "      <td>0.382754</td>\n",
       "      <td>...</td>\n",
       "      <td>0.017963</td>\n",
       "      <td>0.091381</td>\n",
       "      <td>-0.010164</td>\n",
       "      <td>-0.005026</td>\n",
       "      <td>9</td>\n",
       "      <td>M</td>\n",
       "      <td>OTHER</td>\n",
       "      <td>WALK IN</td>\n",
       "      <td>18</td>\n",
       "      <td>False</td>\n",
       "    </tr>\n",
       "    <tr>\n",
       "      <th>1</th>\n",
       "      <td>0.687823</td>\n",
       "      <td>0.107478</td>\n",
       "      <td>-0.366926</td>\n",
       "      <td>0.276666</td>\n",
       "      <td>-0.114789</td>\n",
       "      <td>-0.040132</td>\n",
       "      <td>0.281370</td>\n",
       "      <td>-0.757352</td>\n",
       "      <td>0.556592</td>\n",
       "      <td>0.537890</td>\n",
       "      <td>...</td>\n",
       "      <td>-0.116387</td>\n",
       "      <td>0.031585</td>\n",
       "      <td>-0.010164</td>\n",
       "      <td>-0.022496</td>\n",
       "      <td>0</td>\n",
       "      <td>F</td>\n",
       "      <td>BLACK/AFRICAN AMERICAN</td>\n",
       "      <td>WALK IN</td>\n",
       "      <td>6</td>\n",
       "      <td>False</td>\n",
       "    </tr>\n",
       "    <tr>\n",
       "      <th>2</th>\n",
       "      <td>0.544502</td>\n",
       "      <td>0.324034</td>\n",
       "      <td>-0.413119</td>\n",
       "      <td>-0.136429</td>\n",
       "      <td>0.048228</td>\n",
       "      <td>-0.148902</td>\n",
       "      <td>0.209255</td>\n",
       "      <td>-0.527034</td>\n",
       "      <td>0.568213</td>\n",
       "      <td>0.366345</td>\n",
       "      <td>...</td>\n",
       "      <td>-0.003723</td>\n",
       "      <td>-0.028212</td>\n",
       "      <td>0.036359</td>\n",
       "      <td>0.008561</td>\n",
       "      <td>0</td>\n",
       "      <td>F</td>\n",
       "      <td>ASIAN - CHINESE</td>\n",
       "      <td>AMBULANCE</td>\n",
       "      <td>10</td>\n",
       "      <td>True</td>\n",
       "    </tr>\n",
       "    <tr>\n",
       "      <th>3</th>\n",
       "      <td>0.515957</td>\n",
       "      <td>0.268456</td>\n",
       "      <td>-0.320933</td>\n",
       "      <td>-0.034751</td>\n",
       "      <td>-0.086898</td>\n",
       "      <td>-0.017790</td>\n",
       "      <td>0.174071</td>\n",
       "      <td>-0.270109</td>\n",
       "      <td>0.293977</td>\n",
       "      <td>0.011488</td>\n",
       "      <td>...</td>\n",
       "      <td>0.107530</td>\n",
       "      <td>-0.028212</td>\n",
       "      <td>-0.031311</td>\n",
       "      <td>-0.007938</td>\n",
       "      <td>5</td>\n",
       "      <td>M</td>\n",
       "      <td>WHITE - OTHER EUROPEAN</td>\n",
       "      <td>AMBULANCE</td>\n",
       "      <td>15</td>\n",
       "      <td>False</td>\n",
       "    </tr>\n",
       "    <tr>\n",
       "      <th>4</th>\n",
       "      <td>0.277032</td>\n",
       "      <td>0.495860</td>\n",
       "      <td>-0.180164</td>\n",
       "      <td>0.048023</td>\n",
       "      <td>-0.347137</td>\n",
       "      <td>-0.202029</td>\n",
       "      <td>0.023059</td>\n",
       "      <td>-0.148790</td>\n",
       "      <td>0.601625</td>\n",
       "      <td>-0.190487</td>\n",
       "      <td>...</td>\n",
       "      <td>0.008819</td>\n",
       "      <td>-0.042904</td>\n",
       "      <td>-0.008166</td>\n",
       "      <td>-0.005045</td>\n",
       "      <td>0</td>\n",
       "      <td>M</td>\n",
       "      <td>OTHER</td>\n",
       "      <td>AMBULANCE</td>\n",
       "      <td>7</td>\n",
       "      <td>True</td>\n",
       "    </tr>\n",
       "    <tr>\n",
       "      <th>...</th>\n",
       "      <td>...</td>\n",
       "      <td>...</td>\n",
       "      <td>...</td>\n",
       "      <td>...</td>\n",
       "      <td>...</td>\n",
       "      <td>...</td>\n",
       "      <td>...</td>\n",
       "      <td>...</td>\n",
       "      <td>...</td>\n",
       "      <td>...</td>\n",
       "      <td>...</td>\n",
       "      <td>...</td>\n",
       "      <td>...</td>\n",
       "      <td>...</td>\n",
       "      <td>...</td>\n",
       "      <td>...</td>\n",
       "      <td>...</td>\n",
       "      <td>...</td>\n",
       "      <td>...</td>\n",
       "      <td>...</td>\n",
       "      <td>...</td>\n",
       "    </tr>\n",
       "    <tr>\n",
       "      <th>44032</th>\n",
       "      <td>0.687823</td>\n",
       "      <td>0.107478</td>\n",
       "      <td>-0.366926</td>\n",
       "      <td>0.276666</td>\n",
       "      <td>-0.114789</td>\n",
       "      <td>-0.040132</td>\n",
       "      <td>0.281370</td>\n",
       "      <td>-0.757352</td>\n",
       "      <td>0.556592</td>\n",
       "      <td>0.537890</td>\n",
       "      <td>...</td>\n",
       "      <td>-0.071604</td>\n",
       "      <td>0.031585</td>\n",
       "      <td>0.087111</td>\n",
       "      <td>0.007591</td>\n",
       "      <td>9</td>\n",
       "      <td>M</td>\n",
       "      <td>OTHER</td>\n",
       "      <td>WALK IN</td>\n",
       "      <td>14</td>\n",
       "      <td>False</td>\n",
       "    </tr>\n",
       "    <tr>\n",
       "      <th>44033</th>\n",
       "      <td>0.180610</td>\n",
       "      <td>0.439647</td>\n",
       "      <td>-0.223505</td>\n",
       "      <td>-0.160196</td>\n",
       "      <td>-0.023676</td>\n",
       "      <td>-0.252597</td>\n",
       "      <td>0.222132</td>\n",
       "      <td>-0.092172</td>\n",
       "      <td>0.686407</td>\n",
       "      <td>0.023257</td>\n",
       "      <td>...</td>\n",
       "      <td>0.017963</td>\n",
       "      <td>0.091381</td>\n",
       "      <td>-0.086293</td>\n",
       "      <td>-0.001144</td>\n",
       "      <td>0</td>\n",
       "      <td>F</td>\n",
       "      <td>WHITE</td>\n",
       "      <td>WALK IN</td>\n",
       "      <td>16</td>\n",
       "      <td>False</td>\n",
       "    </tr>\n",
       "    <tr>\n",
       "      <th>44034</th>\n",
       "      <td>-0.007100</td>\n",
       "      <td>0.422666</td>\n",
       "      <td>-0.359140</td>\n",
       "      <td>-0.040917</td>\n",
       "      <td>-0.195994</td>\n",
       "      <td>0.050210</td>\n",
       "      <td>0.530254</td>\n",
       "      <td>-0.123454</td>\n",
       "      <td>0.361253</td>\n",
       "      <td>-0.158439</td>\n",
       "      <td>...</td>\n",
       "      <td>0.017963</td>\n",
       "      <td>-0.088008</td>\n",
       "      <td>0.142092</td>\n",
       "      <td>-0.015702</td>\n",
       "      <td>2</td>\n",
       "      <td>F</td>\n",
       "      <td>WHITE</td>\n",
       "      <td>WALK IN</td>\n",
       "      <td>0</td>\n",
       "      <td>False</td>\n",
       "    </tr>\n",
       "    <tr>\n",
       "      <th>44035</th>\n",
       "      <td>0.507366</td>\n",
       "      <td>0.087813</td>\n",
       "      <td>-0.143296</td>\n",
       "      <td>0.026168</td>\n",
       "      <td>0.202859</td>\n",
       "      <td>-0.268946</td>\n",
       "      <td>0.249754</td>\n",
       "      <td>-0.403564</td>\n",
       "      <td>0.887945</td>\n",
       "      <td>0.506444</td>\n",
       "      <td>...</td>\n",
       "      <td>0.376230</td>\n",
       "      <td>0.091381</td>\n",
       "      <td>0.235138</td>\n",
       "      <td>0.052235</td>\n",
       "      <td>10</td>\n",
       "      <td>M</td>\n",
       "      <td>BLACK/AFRICAN AMERICAN</td>\n",
       "      <td>WALK IN</td>\n",
       "      <td>20</td>\n",
       "      <td>False</td>\n",
       "    </tr>\n",
       "    <tr>\n",
       "      <th>44036</th>\n",
       "      <td>0.554962</td>\n",
       "      <td>0.258206</td>\n",
       "      <td>-0.572957</td>\n",
       "      <td>-0.341423</td>\n",
       "      <td>0.107123</td>\n",
       "      <td>-0.010446</td>\n",
       "      <td>0.399593</td>\n",
       "      <td>0.051852</td>\n",
       "      <td>0.278889</td>\n",
       "      <td>-0.434227</td>\n",
       "      <td>...</td>\n",
       "      <td>0.017963</td>\n",
       "      <td>0.091381</td>\n",
       "      <td>-0.005935</td>\n",
       "      <td>-0.031231</td>\n",
       "      <td>8</td>\n",
       "      <td>F</td>\n",
       "      <td>OTHER</td>\n",
       "      <td>WALK IN</td>\n",
       "      <td>19</td>\n",
       "      <td>False</td>\n",
       "    </tr>\n",
       "  </tbody>\n",
       "</table>\n",
       "<p>44037 rows × 781 columns</p>\n",
       "</div>"
      ],
      "text/plain": [
       "              0         1         2         3         4         5         6  \\\n",
       "0      0.311950  0.444077 -0.288557 -0.093169 -0.104896 -0.010594  0.520037   \n",
       "1      0.687823  0.107478 -0.366926  0.276666 -0.114789 -0.040132  0.281370   \n",
       "2      0.544502  0.324034 -0.413119 -0.136429  0.048228 -0.148902  0.209255   \n",
       "3      0.515957  0.268456 -0.320933 -0.034751 -0.086898 -0.017790  0.174071   \n",
       "4      0.277032  0.495860 -0.180164  0.048023 -0.347137 -0.202029  0.023059   \n",
       "...         ...       ...       ...       ...       ...       ...       ...   \n",
       "44032  0.687823  0.107478 -0.366926  0.276666 -0.114789 -0.040132  0.281370   \n",
       "44033  0.180610  0.439647 -0.223505 -0.160196 -0.023676 -0.252597  0.222132   \n",
       "44034 -0.007100  0.422666 -0.359140 -0.040917 -0.195994  0.050210  0.530254   \n",
       "44035  0.507366  0.087813 -0.143296  0.026168  0.202859 -0.268946  0.249754   \n",
       "44036  0.554962  0.258206 -0.572957 -0.341423  0.107123 -0.010446  0.399593   \n",
       "\n",
       "              7         8         9  ...  resprate     o2sat       sbp  \\\n",
       "0     -0.435160  0.336915  0.382754  ...  0.017963  0.091381 -0.010164   \n",
       "1     -0.757352  0.556592  0.537890  ... -0.116387  0.031585 -0.010164   \n",
       "2     -0.527034  0.568213  0.366345  ... -0.003723 -0.028212  0.036359   \n",
       "3     -0.270109  0.293977  0.011488  ...  0.107530 -0.028212 -0.031311   \n",
       "4     -0.148790  0.601625 -0.190487  ...  0.008819 -0.042904 -0.008166   \n",
       "...         ...       ...       ...  ...       ...       ...       ...   \n",
       "44032 -0.757352  0.556592  0.537890  ... -0.071604  0.031585  0.087111   \n",
       "44033 -0.092172  0.686407  0.023257  ...  0.017963  0.091381 -0.086293   \n",
       "44034 -0.123454  0.361253 -0.158439  ...  0.017963 -0.088008  0.142092   \n",
       "44035 -0.403564  0.887945  0.506444  ...  0.376230  0.091381  0.235138   \n",
       "44036  0.051852  0.278889 -0.434227  ...  0.017963  0.091381 -0.005935   \n",
       "\n",
       "            dbp  pain  gender                    race  arrival_transport  \\\n",
       "0     -0.005026     9       M                   OTHER            WALK IN   \n",
       "1     -0.022496     0       F  BLACK/AFRICAN AMERICAN            WALK IN   \n",
       "2      0.008561     0       F         ASIAN - CHINESE          AMBULANCE   \n",
       "3     -0.007938     5       M  WHITE - OTHER EUROPEAN          AMBULANCE   \n",
       "4     -0.005045     0       M                   OTHER          AMBULANCE   \n",
       "...         ...   ...     ...                     ...                ...   \n",
       "44032  0.007591     9       M                   OTHER            WALK IN   \n",
       "44033 -0.001144     0       F                   WHITE            WALK IN   \n",
       "44034 -0.015702     2       F                   WHITE            WALK IN   \n",
       "44035  0.052235    10       M  BLACK/AFRICAN AMERICAN            WALK IN   \n",
       "44036 -0.031231     8       F                   OTHER            WALK IN   \n",
       "\n",
       "       arrival_hour  isImputed  \n",
       "0                18      False  \n",
       "1                 6      False  \n",
       "2                10       True  \n",
       "3                15      False  \n",
       "4                 7       True  \n",
       "...             ...        ...  \n",
       "44032            14      False  \n",
       "44033            16      False  \n",
       "44034             0      False  \n",
       "44035            20      False  \n",
       "44036            19      False  \n",
       "\n",
       "[44037 rows x 781 columns]"
      ]
     },
     "execution_count": 80,
     "metadata": {},
     "output_type": "execute_result"
    }
   ],
   "source": [
    "new_df"
   ]
  },
  {
   "cell_type": "markdown",
   "metadata": {},
   "source": [
    "### Logistic regressions on new_df (both tabular and text data)"
   ]
  },
  {
   "cell_type": "code",
   "execution_count": 81,
   "metadata": {},
   "outputs": [
    {
     "name": "stdout",
     "output_type": "stream",
     "text": [
      "numerical_col: ['temperature', 'heartrate', 'resprate', 'o2sat', 'sbp', 'dbp', 'arrival_hour']\n",
      "categorical_cols: ['pain', 'gender', 'race', 'arrival_transport', 'isImputed']\n",
      "text_cols: Index([  0,   1,   2,   3,   4,   5,   6,   7,   8,   9,\n",
      "       ...\n",
      "       758, 759, 760, 761, 762, 763, 764, 765, 766, 767],\n",
      "      dtype='object', length=768)\n"
     ]
    }
   ],
   "source": [
    "#### getting numerical columns\n",
    "numerical_col = df.select_dtypes(include=np.number).columns.tolist()\n",
    "numerical_col.remove(\"acuity\")\n",
    "print('numerical_col:', numerical_col)\n",
    "\n",
    "### text col and label\n",
    "text_col = ['chiefcomplaint']\n",
    "label_col = ['acuity'] \n",
    "\n",
    "categorical_cols =[text for text in df.columns if text not in text_col and text not in numerical_col and text not in label_col]\n",
    "print('categorical_cols:', categorical_cols)\n",
    "\n",
    "text_cols = new_df.columns[0:768]\n",
    "print('text_cols:', text_cols)"
   ]
  },
  {
   "cell_type": "code",
   "execution_count": 82,
   "metadata": {},
   "outputs": [],
   "source": [
    "from sklearn.preprocessing import OneHotEncoder, StandardScaler\n",
    "from sklearn.compose import ColumnTransformer\n",
    "from sklearn.impute import SimpleImputer\n",
    "\n",
    "# apply OneHotEncoder on categorical values, StandardScaler on numerical values and SimpleImputer on text data\n",
    "categorical_preprocessor = OneHotEncoder(handle_unknown=\"ignore\")\n",
    "numerical_preprocessor = StandardScaler()\n",
    "text_feature_processor = SimpleImputer(strategy=\"mean\", add_indicator=True)\n",
    "\n",
    "preprocessor1 = ColumnTransformer([\n",
    "    ('one-hot-encoder', categorical_preprocessor, categorical_cols),\n",
    "    ('standard_scaler', numerical_preprocessor, numerical_col)])\n",
    "\n",
    "preprocessor2 = ColumnTransformer([('SimpleImputer', text_feature_processor, text_cols)])"
   ]
  },
  {
   "cell_type": "code",
   "execution_count": 83,
   "metadata": {},
   "outputs": [],
   "source": [
    "logistic_pipeline1 = make_pipeline(preprocessor1, LogisticRegression(max_iter=500))\n",
    "logistic_pipeline2 = make_pipeline(preprocessor2, LogisticRegression(max_iter=500))"
   ]
  },
  {
   "cell_type": "code",
   "execution_count": 84,
   "metadata": {},
   "outputs": [],
   "source": [
    "# Combine the two pipelines to create one logistic regression\n",
    "est_Ensemble = VotingClassifier(estimators = [(\"Tabular\", logistic_pipeline1), (\"Text\", logistic_pipeline2)],\n",
    "                                voting='soft',\n",
    "                                weights=[1,1])"
   ]
  },
  {
   "cell_type": "code",
   "execution_count": 85,
   "metadata": {},
   "outputs": [],
   "source": [
    "# split our datset into a training set and testing set (80% for training, 20 for testing)\n",
    "from sklearn.model_selection import train_test_split\n",
    "data_train, data_test, target_train, target_test = train_test_split(new_df, target, random_state=42)"
   ]
  },
  {
   "cell_type": "code",
   "execution_count": 86,
   "metadata": {},
   "outputs": [
    {
     "data": {
      "text/plain": [
       "VotingClassifier(estimators=[('Tabular',\n",
       "                              Pipeline(steps=[('columntransformer',\n",
       "                                               ColumnTransformer(transformers=[('one-hot-encoder',\n",
       "                                                                                OneHotEncoder(handle_unknown='ignore'),\n",
       "                                                                                ['pain',\n",
       "                                                                                 'gender',\n",
       "                                                                                 'race',\n",
       "                                                                                 'arrival_transport',\n",
       "                                                                                 'isImputed']),\n",
       "                                                                               ('standard_scaler',\n",
       "                                                                                StandardScaler(),\n",
       "                                                                                ['temperature',\n",
       "                                                                                 'heartrate',\n",
       "                                                                                 'resprate',\n",
       "                                                                                 'o2sat',\n",
       "                                                                                 'sbp',\n",
       "                                                                                 'dbp',\n",
       "                                                                                 'arrival_hour'])])),\n",
       "                                              ('logisticr...\n",
       "                                               LogisticRegression(max_iter=500))])),\n",
       "                             ('Text',\n",
       "                              Pipeline(steps=[('columntransformer',\n",
       "                                               ColumnTransformer(transformers=[('SimpleImputer',\n",
       "                                                                                SimpleImputer(add_indicator=True),\n",
       "                                                                                Index([  0,   1,   2,   3,   4,   5,   6,   7,   8,   9,\n",
       "       ...\n",
       "       758, 759, 760, 761, 762, 763, 764, 765, 766, 767],\n",
       "      dtype='object', length=768))])),\n",
       "                                              ('logisticregression',\n",
       "                                               LogisticRegression(max_iter=500))]))],\n",
       "                 voting='soft', weights=[1, 1])"
      ]
     },
     "execution_count": 86,
     "metadata": {},
     "output_type": "execute_result"
    }
   ],
   "source": [
    "# fit the model and calculate the accuracy\n",
    "est_Ensemble.fit(data_train, target_train)"
   ]
  },
  {
   "cell_type": "code",
   "execution_count": 87,
   "metadata": {},
   "outputs": [
    {
     "data": {
      "text/plain": [
       "0.667574931880109"
      ]
     },
     "execution_count": 87,
     "metadata": {},
     "output_type": "execute_result"
    }
   ],
   "source": [
    "est_Ensemble.score(data_test, target_test)"
   ]
  },
  {
   "cell_type": "code",
   "execution_count": 88,
   "metadata": {},
   "outputs": [],
   "source": [
    "# confusion matrix\n",
    "label_pred = est_Ensemble.predict(data_test)\n",
    "metrics = metrics.confusion_matrix(target_test, label_pred)"
   ]
  },
  {
   "cell_type": "code",
   "execution_count": 89,
   "metadata": {},
   "outputs": [
    {
     "data": {
      "text/plain": [
       "Text(0.5, 352.48, 'Actual label')"
      ]
     },
     "execution_count": 89,
     "metadata": {},
     "output_type": "execute_result"
    },
    {
     "data": {
      "image/png": "[encoded data removed]",
      "text/plain": [
       "<Figure size 576x396 with 2 Axes>"
      ]
     },
     "metadata": {},
     "output_type": "display_data"
    }
   ],
   "source": [
    "class_names=[1,2,3,4,5] \n",
    "fig, ax = plt.subplots()\n",
    "tick_marks = np.arange(len(class_names))\n",
    "plt.xticks(tick_marks, class_names)\n",
    "plt.yticks(tick_marks, class_names)\n",
    "# create heatmap\n",
    "sns.heatmap(pd.DataFrame(metrics), annot=True,  xticklabels=class_names, yticklabels=class_names,  cmap=\"magma\" ,fmt='g')\n",
    "ax.xaxis.set_label_position(\"top\")\n",
    "plt.tight_layout()\n",
    "plt.title('Confusion matrix', y=1.1)\n",
    "plt.ylabel('Predicted label')\n",
    "plt.xlabel('Actual label')"
   ]
  },
  {
   "cell_type": "code",
   "execution_count": 90,
   "metadata": {},
   "outputs": [
    {
     "name": "stdout",
     "output_type": "stream",
     "text": [
      "              precision    recall  f1-score   support\n",
      "\n",
      "           1       0.79      0.25      0.38       615\n",
      "           2       0.67      0.51      0.58      3671\n",
      "           3       0.67      0.89      0.76      5955\n",
      "           4       0.55      0.03      0.06       742\n",
      "           5       0.00      0.00      0.00        27\n",
      "\n",
      "    accuracy                           0.67     11010\n",
      "   macro avg       0.53      0.34      0.36     11010\n",
      "weighted avg       0.66      0.67      0.63     11010\n",
      "\n"
     ]
    }
   ],
   "source": [
    "# precision, recall and f1 score\n",
    "from sklearn.metrics import classification_report\n",
    "target_names = ['1','2','3','4','5']\n",
    "print(classification_report(target_test, label_pred, target_names=target_names))"
   ]
  },
  {
   "cell_type": "code",
   "execution_count": 91,
   "metadata": {},
   "outputs": [],
   "source": [
    "# define a function for roc curve\n",
    "from yellowbrick.classifier import ROCAUC\n",
    "\n",
    "def plot_ROC_curve(est_Ensemble, data_train, target_train, data_test, target_test):\n",
    "\n",
    "    # Creating visualization with the readable labels\n",
    "    visualizer = ROCAUC(est_Ensemble, encoder={1: '1', 2: '2', 3: '3', 4: '4', 5: '5'})\n",
    "                                        \n",
    "    # Fitting to the training data first then scoring with the test data                                    \n",
    "    visualizer.fit(data_train, target_train)\n",
    "    visualizer.score(data_test, target_test)\n",
    "    visualizer.show()\n",
    "    \n",
    "    return visualizer"
   ]
  },
  {
   "cell_type": "code",
   "execution_count": 33,
   "metadata": {},
   "outputs": [
    {
     "data": {
      "image/png": "[encoded data removed]",
      "text/plain": [
       "<Figure size 576x396 with 1 Axes>"
      ]
     },
     "metadata": {},
     "output_type": "display_data"
    },
    {
     "data": {
      "text/plain": [
       "ROCAUC(ax=<AxesSubplot:title={'center':'ROC Curves for VotingClassifier'}, xlabel='False Positive Rate', ylabel='True Positive Rate'>,\n",
       "       encoder={1: '1', 2: '2', 3: '3', 4: '4', 5: '5'},\n",
       "       estimator=VotingClassifier(estimators=[('Tabular',\n",
       "                                               Pipeline(steps=[('columntransformer',\n",
       "                                                                ColumnTransformer(transformers=[('one-hot-encoder',\n",
       "                                                                                                 OneHotEncoder(handle_unknown='ignore'),\n",
       "                                                                                                 ['pain',...\n",
       "                                                                LogisticRegression(max_iter=500))])),\n",
       "                                              ('Text',\n",
       "                                               Pipeline(steps=[('columntransformer',\n",
       "                                                                ColumnTransformer(transformers=[('SimpleImputer',\n",
       "                                                                                                 SimpleImputer(add_indicator=True),\n",
       "                                                                                                 Index([  0,   1,   2,   3,   4,   5,   6,   7,   8,   9,\n",
       "       ...\n",
       "       758, 759, 760, 761, 762, 763, 764, 765, 766, 767],\n",
       "      dtype='object', length=768))])),\n",
       "                                                               ('logisticregression',\n",
       "                                                                LogisticRegression(max_iter=500))]))],\n",
       "                                  voting='soft', weights=[1, 1]))"
      ]
     },
     "execution_count": 33,
     "metadata": {},
     "output_type": "execute_result"
    }
   ],
   "source": [
    "plot_ROC_curve(est_Ensemble, data_train, target_train, data_test, target_test)"
   ]
  },
  {
   "cell_type": "markdown",
   "metadata": {},
   "source": [
    "### Logistic regressions on text data"
   ]
  },
  {
   "cell_type": "code",
   "execution_count": 92,
   "metadata": {},
   "outputs": [],
   "source": [
    "# split text data into a training set and testing set (80% for training, 20 for testing)\n",
    "train_features, test_features, train_labels, test_labels = train_test_split(features, target)"
   ]
  },
  {
   "cell_type": "code",
   "execution_count": 93,
   "metadata": {},
   "outputs": [
    {
     "data": {
      "text/plain": [
       "0.645685740236149"
      ]
     },
     "execution_count": 93,
     "metadata": {},
     "output_type": "execute_result"
    }
   ],
   "source": [
    "# create the model, fit the model and calcualte the accuracy\n",
    "lr_clf = LogisticRegression()\n",
    "lr_clf.fit(train_features, train_labels)\n",
    "lr_clf.score(test_features, test_labels)"
   ]
  },
  {
   "cell_type": "code",
   "execution_count": 94,
   "metadata": {},
   "outputs": [],
   "source": [
    "# confusion matrix\n",
    "from sklearn import metrics\n",
    "label_pred1 = lr_clf.predict(test_features)\n",
    "metrics1 = metrics.confusion_matrix(test_labels, label_pred1)"
   ]
  },
  {
   "cell_type": "code",
   "execution_count": 95,
   "metadata": {},
   "outputs": [
    {
     "data": {
      "text/plain": [
       "Text(0.5, 352.48, 'Actual label')"
      ]
     },
     "execution_count": 95,
     "metadata": {},
     "output_type": "execute_result"
    },
    {
     "data": {
      "image/png": "[encoded data removed]",
      "text/plain": [
       "<Figure size 576x396 with 2 Axes>"
      ]
     },
     "metadata": {},
     "output_type": "display_data"
    }
   ],
   "source": [
    "class_names=[1,2,3,4,5] \n",
    "fig, ax = plt.subplots()\n",
    "tick_marks = np.arange(len(class_names))\n",
    "plt.xticks(tick_marks, class_names)\n",
    "plt.yticks(tick_marks, class_names)\n",
    "# create heatmap\n",
    "sns.heatmap(pd.DataFrame(metrics1), annot=True,  xticklabels=class_names, yticklabels=class_names,  cmap=\"magma\" ,fmt='g')\n",
    "ax.xaxis.set_label_position(\"top\")\n",
    "plt.tight_layout()\n",
    "plt.title('Confusion matrix', y=1.1)\n",
    "plt.ylabel('Predicted label')\n",
    "plt.xlabel('Actual label')"
   ]
  },
  {
   "cell_type": "code",
   "execution_count": 38,
   "metadata": {},
   "outputs": [
    {
     "name": "stdout",
     "output_type": "stream",
     "text": [
      "              precision    recall  f1-score   support\n",
      "\n",
      "           1       0.59      0.15      0.23       606\n",
      "           2       0.61      0.58      0.60      3667\n",
      "           3       0.68      0.82      0.74      5924\n",
      "           4       0.53      0.16      0.25       795\n",
      "           5       0.00      0.00      0.00        18\n",
      "\n",
      "    accuracy                           0.65     11010\n",
      "   macro avg       0.48      0.34      0.36     11010\n",
      "weighted avg       0.64      0.65      0.63     11010\n",
      "\n"
     ]
    }
   ],
   "source": [
    "# precision, recall and f1 score\n",
    "print(classification_report(test_labels, label_pred1, target_names=target_names))"
   ]
  },
  {
   "cell_type": "code",
   "execution_count": 39,
   "metadata": {},
   "outputs": [
    {
     "data": {
      "image/png": "[encoded data removed]",
      "text/plain": [
       "<Figure size 576x396 with 1 Axes>"
      ]
     },
     "metadata": {},
     "output_type": "display_data"
    },
    {
     "data": {
      "text/plain": [
       "ROCAUC(ax=<AxesSubplot:title={'center':'ROC Curves for LogisticRegression'}, xlabel='False Positive Rate', ylabel='True Positive Rate'>,\n",
       "       encoder={1: '1', 2: '2', 3: '3', 4: '4', 5: '5'},\n",
       "       estimator=LogisticRegression())"
      ]
     },
     "execution_count": 39,
     "metadata": {},
     "output_type": "execute_result"
    }
   ],
   "source": [
    "# plot the roc curve\n",
    "plot_ROC_curve(lr_clf, train_features, train_labels, test_features, test_labels)"
   ]
  },
  {
   "cell_type": "markdown",
   "metadata": {},
   "source": [
    "### Logistic regressions on tabular data"
   ]
  },
  {
   "cell_type": "code",
   "execution_count": 96,
   "metadata": {},
   "outputs": [
    {
     "data": {
      "text/plain": [
       "Pipeline(steps=[('columntransformer',\n",
       "                 ColumnTransformer(transformers=[('one-hot-encoder',\n",
       "                                                  OneHotEncoder(handle_unknown='ignore'),\n",
       "                                                  ['pain', 'gender', 'race',\n",
       "                                                   'arrival_transport',\n",
       "                                                   'isImputed']),\n",
       "                                                 ('standard_scaler',\n",
       "                                                  StandardScaler(),\n",
       "                                                  ['temperature', 'heartrate',\n",
       "                                                   'resprate', 'o2sat', 'sbp',\n",
       "                                                   'dbp', 'arrival_hour'])])),\n",
       "                ('logisticregression', LogisticRegression(max_iter=500))])"
      ]
     },
     "execution_count": 96,
     "metadata": {},
     "output_type": "execute_result"
    }
   ],
   "source": [
    "# As we already created a pipeline for tabular data, we use it here for model training\n",
    "logistic_pipeline1"
   ]
  },
  {
   "cell_type": "code",
   "execution_count": 97,
   "metadata": {},
   "outputs": [],
   "source": [
    "# split tabular data into a training set and testing set (80% for training, 20 for testing)\n",
    "data_train, data_test, target_train, target_test = train_test_split(data, target, random_state=42)"
   ]
  },
  {
   "cell_type": "code",
   "execution_count": 98,
   "metadata": {},
   "outputs": [
    {
     "data": {
      "text/plain": [
       "0.596094459582198"
      ]
     },
     "execution_count": 98,
     "metadata": {},
     "output_type": "execute_result"
    }
   ],
   "source": [
    "# fit the model and calcualte the accuracy\n",
    "_ = logistic_pipeline1.fit(data_train, target_train)\n",
    "logistic_pipeline1.score(data_test, target_test)"
   ]
  },
  {
   "cell_type": "code",
   "execution_count": 99,
   "metadata": {},
   "outputs": [],
   "source": [
    "# confusion matrix\n",
    "label_pred2 = logistic_pipeline1.predict(data_test)\n",
    "metrics2 = metrics.confusion_matrix(target_test, label_pred2)"
   ]
  },
  {
   "cell_type": "code",
   "execution_count": 100,
   "metadata": {},
   "outputs": [
    {
     "data": {
      "text/plain": [
       "Text(0.5, 352.48, 'Actual label')"
      ]
     },
     "execution_count": 100,
     "metadata": {},
     "output_type": "execute_result"
    },
    {
     "data": {
      "image/png": "[encoded data removed]",
      "text/plain": [
       "<Figure size 576x396 with 2 Axes>"
      ]
     },
     "metadata": {},
     "output_type": "display_data"
    }
   ],
   "source": [
    "class_names=[1,2,3,4,5] \n",
    "fig, ax = plt.subplots()\n",
    "tick_marks = np.arange(len(class_names))\n",
    "plt.xticks(tick_marks, class_names)\n",
    "plt.yticks(tick_marks, class_names)\n",
    "# create heatmap\n",
    "sns.heatmap(pd.DataFrame(metrics2), annot=True,  xticklabels=class_names, yticklabels=class_names, cmap=\"magma\" ,fmt='g')\n",
    "ax.xaxis.set_label_position(\"top\")\n",
    "plt.tight_layout()\n",
    "plt.title('Confusion matrix', y=1.1)\n",
    "plt.ylabel('Predicted label')\n",
    "plt.xlabel('Actual label')"
   ]
  },
  {
   "cell_type": "code",
   "execution_count": 45,
   "metadata": {},
   "outputs": [
    {
     "name": "stdout",
     "output_type": "stream",
     "text": [
      "              precision    recall  f1-score   support\n",
      "\n",
      "           1       0.66      0.36      0.47       615\n",
      "           2       0.54      0.34      0.41      3671\n",
      "           3       0.61      0.86      0.71      5955\n",
      "           4       0.00      0.00      0.00       742\n",
      "           5       0.00      0.00      0.00        27\n",
      "\n",
      "    accuracy                           0.60     11010\n",
      "   macro avg       0.36      0.31      0.32     11010\n",
      "weighted avg       0.55      0.60      0.55     11010\n",
      "\n"
     ]
    }
   ],
   "source": [
    "# precision, recall and f1 score\n",
    "print(classification_report(target_test, label_pred2, target_names=target_names))"
   ]
  },
  {
   "cell_type": "code",
   "execution_count": 46,
   "metadata": {},
   "outputs": [
    {
     "data": {
      "image/png": "[encoded data removed]",
      "text/plain": [
       "<Figure size 576x396 with 1 Axes>"
      ]
     },
     "metadata": {},
     "output_type": "display_data"
    },
    {
     "data": {
      "text/plain": [
       "ROCAUC(ax=<AxesSubplot:title={'center':'ROC Curves for LogisticRegression'}, xlabel='False Positive Rate', ylabel='True Positive Rate'>,\n",
       "       encoder={1: '1', 2: '2', 3: '3', 4: '4', 5: '5'},\n",
       "       estimator=Pipeline(steps=[('columntransformer',\n",
       "                                  ColumnTransformer(transformers=[('one-hot-encoder',\n",
       "                                                                   OneHotEncoder(handle_unknown='ignore'),\n",
       "                                                                   ['pain',\n",
       "                                                                    'gender',\n",
       "                                                                    'race',\n",
       "                                                                    'arrival_transport',\n",
       "                                                                    'isImputed']),\n",
       "                                                                  ('standard_scaler',\n",
       "                                                                   StandardScaler(),\n",
       "                                                                   ['temperature',\n",
       "                                                                    'heartrate',\n",
       "                                                                    'resprate',\n",
       "                                                                    'o2sat',\n",
       "                                                                    'sbp',\n",
       "                                                                    'dbp',\n",
       "                                                                    'arrival_hour'])])),\n",
       "                                 ('logisticregression',\n",
       "                                  LogisticRegression(max_iter=500))]))"
      ]
     },
     "execution_count": 46,
     "metadata": {},
     "output_type": "execute_result"
    }
   ],
   "source": [
    "# plot the roc curve\n",
    "plot_ROC_curve(logistic_pipeline1, data_train, target_train, data_test, target_test)"
   ]
  },
  {
   "cell_type": "markdown",
   "metadata": {},
   "source": [
    "### Read the logistic regression model on new_df (both tabular data and text data) and load it"
   ]
  },
  {
   "cell_type": "code",
   "execution_count": 47,
   "metadata": {},
   "outputs": [],
   "source": [
    "import pickle\n",
    "# save the model to a file\n",
    "with open('LogisticRegression.pkl', 'wb') as f:\n",
    "    pickle.dump(est_Ensemble, f)"
   ]
  },
  {
   "cell_type": "code",
   "execution_count": 144,
   "metadata": {},
   "outputs": [],
   "source": [
    "# load the model\n",
    "with open('LogisticRegression.pkl', 'rb') as f:\n",
    "    model_read = pickle.load(f)"
   ]
  },
  {
   "cell_type": "code",
   "execution_count": 145,
   "metadata": {},
   "outputs": [
    {
     "name": "stdout",
     "output_type": "stream",
     "text": [
      "VotingClassifier(estimators=[('Tabular',\n",
      "                              Pipeline(steps=[('columntransformer',\n",
      "                                               ColumnTransformer(transformers=[('one-hot-encoder',\n",
      "                                                                                OneHotEncoder(handle_unknown='ignore'),\n",
      "                                                                                ['pain',\n",
      "                                                                                 'gender',\n",
      "                                                                                 'race',\n",
      "                                                                                 'arrival_transport',\n",
      "                                                                                 'disposition',\n",
      "                                                                                 'isImputed']),\n",
      "                                                                               ('standard_scaler',\n",
      "                                                                                StandardScaler(),\n",
      "                                                                                ['temperature',\n",
      "                                                                                 'heartrate',\n",
      "                                                                                 'resprate',\n",
      "                                                                                 'o2sat',\n",
      "                                                                                 'sbp',\n",
      "                                                                                 'dbp',\n",
      "                                                                                 'arrival_hour'])]...\n",
      "                                               LogisticRegression(max_iter=500))])),\n",
      "                             ('Text',\n",
      "                              Pipeline(steps=[('columntransformer',\n",
      "                                               ColumnTransformer(transformers=[('SimpleImputer',\n",
      "                                                                                SimpleImputer(add_indicator=True),\n",
      "                                                                                Index([  0,   1,   2,   3,   4,   5,   6,   7,   8,   9,\n",
      "       ...\n",
      "       758, 759, 760, 761, 762, 763, 764, 765, 766, 767],\n",
      "      dtype='object', length=768))])),\n",
      "                                              ('logisticregression',\n",
      "                                               LogisticRegression(max_iter=500))]))],\n",
      "                 voting='soft', weights=[1, 1])\n"
     ]
    }
   ],
   "source": [
    "print(model_read)"
   ]
  }
 ],
 "metadata": {
  "kernelspec": {
   "display_name": "Python 3",
   "language": "python",
   "name": "python3"
  },
  "language_info": {
   "codemirror_mode": {
    "name": "ipython",
    "version": 3
   },
   "file_extension": ".py",
   "mimetype": "text/x-python",
   "name": "python",
   "nbconvert_exporter": "python",
   "pygments_lexer": "ipython3",
   "version": "3.10.8"
  },
  "vscode": {
   "interpreter": {
    "hash": "cfe24a07c676aff1c6f8c82e94a366e50d73797d6393d8cbee9b9159d05d160c"
   }
  }
 },
 "nbformat": 4,
 "nbformat_minor": 2
}
